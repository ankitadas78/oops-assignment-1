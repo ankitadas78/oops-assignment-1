{
 "cells": [
  {
   "cell_type": "markdown",
   "id": "f33a1d2e-bbc5-4511-ad27-cbe0a6c0137e",
   "metadata": {},
   "source": [
    "ques1_explain class and object with respect to object-oriented programming.give a suitable example"
   ]
  },
  {
   "cell_type": "code",
   "execution_count": 2,
   "id": "ac49f4d4-5f93-47db-9813-62165cabd7d7",
   "metadata": {},
   "outputs": [],
   "source": [
    "##a object is simply a collection of variables and method and a class is a blueprint for that object\n",
    "###example : suppose , there are two students in a class and i want to shown them a same message by usimg different object\n",
    "#exmple 1\n",
    "class pwskills :\n",
    "    \n",
    "    def welcome_message(self):\n",
    "        print(\"welcome to pwskills data science masters\")"
   ]
  },
  {
   "cell_type": "code",
   "execution_count": 4,
   "id": "7d6d0120-d7fe-4387-a08a-a017d4074a31",
   "metadata": {},
   "outputs": [],
   "source": [
    "rohan = pwskills()"
   ]
  },
  {
   "cell_type": "code",
   "execution_count": 5,
   "id": "7b6707fe-a1d2-41fa-81b9-b52974f69d5c",
   "metadata": {},
   "outputs": [
    {
     "name": "stdout",
     "output_type": "stream",
     "text": [
      "<class '__main__.pwskills'>\n"
     ]
    }
   ],
   "source": [
    "print(type(rohan))"
   ]
  },
  {
   "cell_type": "code",
   "execution_count": 6,
   "id": "2eb4e137-bb02-4c90-90eb-6a2fbef1da29",
   "metadata": {},
   "outputs": [
    {
     "name": "stdout",
     "output_type": "stream",
     "text": [
      "welcome to pwskills data science masters\n"
     ]
    }
   ],
   "source": [
    "rohan.welcome_message()"
   ]
  },
  {
   "cell_type": "code",
   "execution_count": 7,
   "id": "2abdb89b-686b-4c49-8110-07bedbd57ed8",
   "metadata": {},
   "outputs": [],
   "source": [
    "mohan = pwskills()"
   ]
  },
  {
   "cell_type": "code",
   "execution_count": 8,
   "id": "a1d4cc90-8fee-4069-af88-a3c04021dee7",
   "metadata": {},
   "outputs": [
    {
     "name": "stdout",
     "output_type": "stream",
     "text": [
      "welcome to pwskills data science masters\n"
     ]
    }
   ],
   "source": [
    "mohan.welcome_message()"
   ]
  },
  {
   "cell_type": "code",
   "execution_count": 9,
   "id": "e1381637-eccd-46e8-bad6-e4dbecc9f85d",
   "metadata": {},
   "outputs": [],
   "source": [
    "##example 2\n",
    "\n",
    "class data_science:\n",
    "    \n",
    "    def course_structure(self):\n",
    "        print(\"pw gives you data science masters course with affordable price\")"
   ]
  },
  {
   "cell_type": "code",
   "execution_count": 10,
   "id": "10f90700-7ec0-422a-9398-e76aeb75f392",
   "metadata": {},
   "outputs": [],
   "source": [
    "ankita = data_science()"
   ]
  },
  {
   "cell_type": "code",
   "execution_count": 11,
   "id": "c559312e-0c2d-4811-a62b-80cb7efea353",
   "metadata": {},
   "outputs": [],
   "source": [
    "ankit = data_science()"
   ]
  },
  {
   "cell_type": "code",
   "execution_count": 12,
   "id": "cd9d8fe2-c5ff-4162-9558-723ca9359742",
   "metadata": {},
   "outputs": [
    {
     "name": "stdout",
     "output_type": "stream",
     "text": [
      "pw gives you data science masters course with affordable price\n"
     ]
    }
   ],
   "source": [
    "ankita.course_structure()"
   ]
  },
  {
   "cell_type": "code",
   "execution_count": 13,
   "id": "a0a6a239-0e2d-41dc-8499-1ac403a420c3",
   "metadata": {},
   "outputs": [
    {
     "name": "stdout",
     "output_type": "stream",
     "text": [
      "pw gives you data science masters course with affordable price\n"
     ]
    }
   ],
   "source": [
    "ankit.course_structure()"
   ]
  },
  {
   "cell_type": "markdown",
   "id": "3d5016d8-f98f-438a-8618-d1fc7285a933",
   "metadata": {},
   "source": [
    "ques2_name the four pillars of oops"
   ]
  },
  {
   "cell_type": "code",
   "execution_count": 1,
   "id": "43db2969-b833-497d-a47d-3c2f185f410a",
   "metadata": {},
   "outputs": [],
   "source": [
    "## the four pillars of oops are\n",
    "#polymorphism : multiple behavious in diffrent kind of programme\n",
    "#encaopsulation : hide implementation to user\n",
    "#inheritance : allows to define a class that inherits all the methods and properties from another class\n",
    "#abstraction : displaying only essential inforamtion and hiding the details"
   ]
  },
  {
   "cell_type": "code",
   "execution_count": 12,
   "id": "ef941f9d-7412-473b-9f44-68868e13c27c",
   "metadata": {},
   "outputs": [],
   "source": [
    "#polymorphism example\n",
    "\n",
    "class machine_learning:\n",
    "    def syllabus(self):\n",
    "        print(\"this is the syllabus of machine learning\")"
   ]
  },
  {
   "cell_type": "code",
   "execution_count": 13,
   "id": "dc4aa707-692e-445f-b12d-97ffee049e69",
   "metadata": {},
   "outputs": [],
   "source": [
    "class statistics:\n",
    "    def syllabus(self):\n",
    "        print(\"this is the syllabus of statistics\")"
   ]
  },
  {
   "cell_type": "code",
   "execution_count": 14,
   "id": "18949118-f59f-4eaf-bcfc-1f6c0e81a558",
   "metadata": {},
   "outputs": [],
   "source": [
    "def class_parcer(class_obj):\n",
    "    for i in class_obj:\n",
    "        i.syllabus()"
   ]
  },
  {
   "cell_type": "code",
   "execution_count": 15,
   "id": "73cf3be5-0a51-4765-a353-32abbf3318ef",
   "metadata": {},
   "outputs": [],
   "source": [
    "machine_learning = machine_learning()"
   ]
  },
  {
   "cell_type": "code",
   "execution_count": 16,
   "id": "a3985096-1b57-4e30-8fe7-80476c9ebfdb",
   "metadata": {},
   "outputs": [],
   "source": [
    "statistics = statistics()"
   ]
  },
  {
   "cell_type": "code",
   "execution_count": 17,
   "id": "be4f830f-9edc-46ae-b882-dacbb6020db5",
   "metadata": {},
   "outputs": [],
   "source": [
    "class_obj = [machine_learning , statistics]"
   ]
  },
  {
   "cell_type": "code",
   "execution_count": 18,
   "id": "4acae37d-0506-4e6a-b6ef-b59984083189",
   "metadata": {},
   "outputs": [
    {
     "name": "stdout",
     "output_type": "stream",
     "text": [
      "this is the syllabus of machine learning\n",
      "this is the syllabus of statistics\n"
     ]
    }
   ],
   "source": [
    "class_parcer(class_obj)"
   ]
  },
  {
   "cell_type": "code",
   "execution_count": 23,
   "id": "f1c21a3b-f765-4b3b-b17d-61531f9e6529",
   "metadata": {},
   "outputs": [],
   "source": [
    "#encapsulation example:\n",
    "\n",
    "class result:\n",
    "    def __init__(self,year,name,passing_marks):\n",
    "        self.__year = year\n",
    "        self.__name = name\n",
    "        self.__passing_marks=34\n",
    "        \n",
    "    def set_passing_marks(self,passing_marks):\n",
    "        self.__passing_marks = 34 if passing_marks < 34 else passing_marks\n",
    "        \n",
    "    def get_passing_marks(self):\n",
    "        return self.__passing_marks\n",
    "        \n",
    "    "
   ]
  },
  {
   "cell_type": "code",
   "execution_count": 24,
   "id": "aa28ae04-6adf-4a6a-8038-1d4c7f40fe8f",
   "metadata": {},
   "outputs": [],
   "source": [
    "r = result(2021, \"ria\" , 50)"
   ]
  },
  {
   "cell_type": "code",
   "execution_count": 25,
   "id": "c62ffa7b-c0f1-4ef4-a1df-ab80eef1dfc7",
   "metadata": {},
   "outputs": [
    {
     "data": {
      "text/plain": [
       "2021"
      ]
     },
     "execution_count": 25,
     "metadata": {},
     "output_type": "execute_result"
    }
   ],
   "source": [
    "r._result__year"
   ]
  },
  {
   "cell_type": "code",
   "execution_count": 26,
   "id": "d2a29b20-e0f6-4984-8eb0-fecd6c230755",
   "metadata": {},
   "outputs": [
    {
     "data": {
      "text/plain": [
       "'ria'"
      ]
     },
     "execution_count": 26,
     "metadata": {},
     "output_type": "execute_result"
    }
   ],
   "source": [
    "r._result__name"
   ]
  },
  {
   "cell_type": "code",
   "execution_count": 27,
   "id": "95fcdb1f-a687-4eec-a86a-246eab1cd9a3",
   "metadata": {},
   "outputs": [],
   "source": [
    "r.set_passing_marks(-83)"
   ]
  },
  {
   "cell_type": "code",
   "execution_count": 28,
   "id": "2c72df9e-7ad2-4a56-bd53-69d7c1c64ac6",
   "metadata": {},
   "outputs": [
    {
     "data": {
      "text/plain": [
       "34"
      ]
     },
     "execution_count": 28,
     "metadata": {},
     "output_type": "execute_result"
    }
   ],
   "source": [
    "r.get_passing_marks()"
   ]
  },
  {
   "cell_type": "code",
   "execution_count": 29,
   "id": "c5e41f80-ea71-4fd9-8253-e76b0a4e5f99",
   "metadata": {},
   "outputs": [],
   "source": [
    "r.set_passing_marks(40)"
   ]
  },
  {
   "cell_type": "code",
   "execution_count": 30,
   "id": "c8797e84-9593-4a16-9de3-72f8a1a3592e",
   "metadata": {},
   "outputs": [
    {
     "data": {
      "text/plain": [
       "40"
      ]
     },
     "execution_count": 30,
     "metadata": {},
     "output_type": "execute_result"
    }
   ],
   "source": [
    "r.get_passing_marks()"
   ]
  },
  {
   "cell_type": "code",
   "execution_count": 38,
   "id": "a35400e4-25d9-469d-91e2-16b78ef9be2a",
   "metadata": {},
   "outputs": [],
   "source": [
    "#inheritance example\n",
    "\n",
    "class class_test1:\n",
    "    def class_test1(self):\n",
    "        return \"this is my multiple inheritance of class test1 method\""
   ]
  },
  {
   "cell_type": "code",
   "execution_count": 39,
   "id": "5d5333b2-f579-4d2f-b555-723f285afc32",
   "metadata": {},
   "outputs": [],
   "source": [
    "class class_test2:\n",
    "    def class_test2(self):\n",
    "        return \"this is my multiple inheritance of class test2 method\""
   ]
  },
  {
   "cell_type": "code",
   "execution_count": 40,
   "id": "44bbf683-b47b-4359-b15c-6f1c5720977b",
   "metadata": {},
   "outputs": [],
   "source": [
    "class class_test3(class_test1 , class_test2):\n",
    "    pass"
   ]
  },
  {
   "cell_type": "code",
   "execution_count": 41,
   "id": "d416f317-0c0e-4e8e-b206-dba665902ebb",
   "metadata": {},
   "outputs": [],
   "source": [
    "class_obj_details = class_test3()"
   ]
  },
  {
   "cell_type": "code",
   "execution_count": 42,
   "id": "c90afd8a-356d-4a6e-8cfd-6737f5845cd9",
   "metadata": {},
   "outputs": [
    {
     "data": {
      "text/plain": [
       "'this is my multiple inheritance of class test1 method'"
      ]
     },
     "execution_count": 42,
     "metadata": {},
     "output_type": "execute_result"
    }
   ],
   "source": [
    "class_obj_details.class_test1()"
   ]
  },
  {
   "cell_type": "code",
   "execution_count": 43,
   "id": "df4dd785-9f2a-4062-9f73-bac841551961",
   "metadata": {},
   "outputs": [
    {
     "data": {
      "text/plain": [
       "'this is my multiple inheritance of class test2 method'"
      ]
     },
     "execution_count": 43,
     "metadata": {},
     "output_type": "execute_result"
    }
   ],
   "source": [
    "class_obj_details.class_test2()"
   ]
  },
  {
   "cell_type": "code",
   "execution_count": 45,
   "id": "3bd49a67-1a06-4639-963f-ea2f0bb28261",
   "metadata": {},
   "outputs": [],
   "source": [
    "#inheritance example 2\n",
    "\n",
    "class class4:\n",
    "    def class4_method(self):\n",
    "        return \"this is my multilevel inheritance of class4\"\n",
    "    "
   ]
  },
  {
   "cell_type": "code",
   "execution_count": 46,
   "id": "9c239832-f13c-46dd-a516-ba7f86ae5160",
   "metadata": {},
   "outputs": [],
   "source": [
    "class class5(class4):\n",
    "    def class5_method(self):\n",
    "        return \"this is my multilevel inheritance of class5\""
   ]
  },
  {
   "cell_type": "code",
   "execution_count": 47,
   "id": "3667d9fd-f86a-43e9-ab6c-0cabc705a89b",
   "metadata": {},
   "outputs": [],
   "source": [
    "class class6(class5):\n",
    "    pass"
   ]
  },
  {
   "cell_type": "code",
   "execution_count": 48,
   "id": "e2a699c2-a8ed-413a-a559-37f731719402",
   "metadata": {},
   "outputs": [],
   "source": [
    "class_obj1 = class6()"
   ]
  },
  {
   "cell_type": "code",
   "execution_count": 50,
   "id": "b6a43c8c-b3cc-4e96-bbe5-248386092a84",
   "metadata": {},
   "outputs": [
    {
     "data": {
      "text/plain": [
       "'this is my multilevel inheritance of class4'"
      ]
     },
     "execution_count": 50,
     "metadata": {},
     "output_type": "execute_result"
    }
   ],
   "source": [
    "class_obj1.class4_method()"
   ]
  },
  {
   "cell_type": "code",
   "execution_count": 51,
   "id": "dc89697e-47f0-4c77-bae8-de0798455757",
   "metadata": {},
   "outputs": [
    {
     "data": {
      "text/plain": [
       "'this is my multilevel inheritance of class5'"
      ]
     },
     "execution_count": 51,
     "metadata": {},
     "output_type": "execute_result"
    }
   ],
   "source": [
    "class_obj1.class5_method()"
   ]
  },
  {
   "cell_type": "code",
   "execution_count": 52,
   "id": "dc145715-2216-40cd-9d68-42a6b1abc1c9",
   "metadata": {},
   "outputs": [],
   "source": [
    "#abstruction example \n",
    "\n",
    "import abc\n",
    "class pwskills:\n",
    "    @abc.abstractmethod\n",
    "    def students_details(self):\n",
    "        pass\n",
    "    @abc.abstractmethod\n",
    "    def students_assignment(self):\n",
    "        pass\n",
    "    @abc.abstractmethod\n",
    "    def students_marks(self):\n",
    "        pass"
   ]
  },
  {
   "cell_type": "code",
   "execution_count": 53,
   "id": "735fdf29-e0c4-4f5b-aa0c-1c8758f5554d",
   "metadata": {},
   "outputs": [],
   "source": [
    "class student_details(pwskills):\n",
    "    \n",
    "    def students_details(self):\n",
    "        return \"this is a meth for taking student details\"\n",
    "    \n",
    "    def students_assignment(self):\n",
    "        return \"this is a meth for assign details for a particular student\""
   ]
  },
  {
   "cell_type": "code",
   "execution_count": 54,
   "id": "59bba626-a6f1-428e-82de-f22c70c5eab2",
   "metadata": {},
   "outputs": [],
   "source": [
    "class data_science_masters(pwskills):\n",
    "    \n",
    "    def students_details(self):\n",
    "        return \"this will return a student details for data science masters\"\n",
    "    \n",
    "    def student_assignment(self):\n",
    "        return \"this will give you a student assignment details for data science masters\""
   ]
  },
  {
   "cell_type": "code",
   "execution_count": 55,
   "id": "5edd41bf-61e5-4112-ab10-9e6b99f3cf22",
   "metadata": {},
   "outputs": [
    {
     "data": {
      "text/plain": [
       "'this will return a student details for data science masters'"
      ]
     },
     "execution_count": 55,
     "metadata": {},
     "output_type": "execute_result"
    }
   ],
   "source": [
    "dsm = data_science_masters()\n",
    "dsm.students_details()"
   ]
  },
  {
   "cell_type": "code",
   "execution_count": 56,
   "id": "aa80fa69-4605-495a-8d09-86eae513e014",
   "metadata": {},
   "outputs": [
    {
     "data": {
      "text/plain": [
       "'this is a meth for taking student details'"
      ]
     },
     "execution_count": 56,
     "metadata": {},
     "output_type": "execute_result"
    }
   ],
   "source": [
    "sd = student_details()\n",
    "sd.students_details()"
   ]
  },
  {
   "cell_type": "markdown",
   "id": "ccbcceac-56a7-49ae-bb57-961b38004324",
   "metadata": {},
   "source": [
    "ques3_explain why the __init__() function is used.give a suitable example"
   ]
  },
  {
   "cell_type": "code",
   "execution_count": 57,
   "id": "b859987f-ab9f-4ac3-932c-0ab77e845f62",
   "metadata": {},
   "outputs": [],
   "source": [
    "##thi python __init__() method iis used to initialize the object's attributes and serves no other purpose\n",
    "\n",
    "class test:\n",
    "    def __init__(self,x,y):\n",
    "        self.x = x\n",
    "        self.y = y"
   ]
  },
  {
   "cell_type": "code",
   "execution_count": 60,
   "id": "0dc561d1-61d5-45fa-b0b7-cff301752cd9",
   "metadata": {},
   "outputs": [],
   "source": [
    "t = test(12 , 40)"
   ]
  },
  {
   "cell_type": "code",
   "execution_count": 61,
   "id": "cf2696cf-96a2-4710-a2ee-4191b8688620",
   "metadata": {},
   "outputs": [
    {
     "data": {
      "text/plain": [
       "12"
      ]
     },
     "execution_count": 61,
     "metadata": {},
     "output_type": "execute_result"
    }
   ],
   "source": [
    "t.x"
   ]
  },
  {
   "cell_type": "code",
   "execution_count": 62,
   "id": "d7ce1e56-172a-4375-bfb0-0672f40e8f83",
   "metadata": {},
   "outputs": [
    {
     "data": {
      "text/plain": [
       "40"
      ]
     },
     "execution_count": 62,
     "metadata": {},
     "output_type": "execute_result"
    }
   ],
   "source": [
    "t.y"
   ]
  },
  {
   "cell_type": "markdown",
   "id": "f192e942-1b60-4505-8bef-313733359888",
   "metadata": {},
   "source": [
    "ques5_why self is used in oops"
   ]
  },
  {
   "cell_type": "code",
   "execution_count": 63,
   "id": "cea7650c-f34f-4a37-97ab-58e842e2d9b9",
   "metadata": {},
   "outputs": [],
   "source": [
    "##self() is used in oops to allows access variables,attributes,method\n",
    "\n",
    "class pwskills:\n",
    "    def couse_details(self):\n",
    "        print(\"this is the course details in the class method\")"
   ]
  },
  {
   "cell_type": "code",
   "execution_count": 64,
   "id": "515f3bb1-22a8-4f7b-8a2f-0db8b948a59d",
   "metadata": {},
   "outputs": [],
   "source": [
    "a = pwskills()"
   ]
  },
  {
   "cell_type": "code",
   "execution_count": 65,
   "id": "f7caa3ee-f9ba-4fdf-ba71-7f51805f0bd1",
   "metadata": {},
   "outputs": [
    {
     "name": "stdout",
     "output_type": "stream",
     "text": [
      "this is the course details in the class method\n"
     ]
    }
   ],
   "source": [
    "a.couse_details()"
   ]
  },
  {
   "cell_type": "code",
   "execution_count": 66,
   "id": "b7caaa76-f846-462c-8fec-6b74a91f57ce",
   "metadata": {},
   "outputs": [],
   "source": [
    "b = pwskills()"
   ]
  },
  {
   "cell_type": "code",
   "execution_count": 67,
   "id": "dc00b426-9589-4a57-8ccb-a2647d84538d",
   "metadata": {},
   "outputs": [
    {
     "name": "stdout",
     "output_type": "stream",
     "text": [
      "this is the course details in the class method\n"
     ]
    }
   ],
   "source": [
    "b.couse_details()"
   ]
  },
  {
   "cell_type": "markdown",
   "id": "f1b34a26-1f68-4649-8b94-aa030200524b",
   "metadata": {},
   "source": [
    "ques5_what is inheritance?give an example for each type of inheritance"
   ]
  },
  {
   "cell_type": "code",
   "execution_count": 86,
   "id": "583195a4-673f-43ed-b885-75d826c5ed66",
   "metadata": {},
   "outputs": [],
   "source": [
    "# inheritance is allows to define a class that inherits all the methods and properties from another class\n",
    "##two types of inheritance \n",
    "\n",
    "#multilevel inheritance\n",
    "\n",
    "class obtain_marks1:\n",
    "    def obtain_marks1(self):\n",
    "        return \"in mathematics I got 85 in phase one\""
   ]
  },
  {
   "cell_type": "code",
   "execution_count": 87,
   "id": "51554356-059d-4425-93c2-ed6226cec8ec",
   "metadata": {},
   "outputs": [],
   "source": [
    "class obtain_marks2(obtain_marks1):\n",
    "    def obtain_marks2(self):\n",
    "        return \"in mathematica I got 80 in phase 2\"\n"
   ]
  },
  {
   "cell_type": "code",
   "execution_count": 88,
   "id": "d3874e9b-f6da-485d-88be-023467028f88",
   "metadata": {},
   "outputs": [],
   "source": [
    "class obtain_marks3(obtain_marks2):\n",
    "    pass"
   ]
  },
  {
   "cell_type": "code",
   "execution_count": 90,
   "id": "201a7188-f57c-4d39-afac-fa8e78427cf6",
   "metadata": {},
   "outputs": [],
   "source": [
    "class_obj1 = obtain_marks3()"
   ]
  },
  {
   "cell_type": "code",
   "execution_count": 91,
   "id": "d23d54f6-5954-4c22-8874-9785122d9deb",
   "metadata": {},
   "outputs": [
    {
     "data": {
      "text/plain": [
       "'in mathematics I got 85 in phase one'"
      ]
     },
     "execution_count": 91,
     "metadata": {},
     "output_type": "execute_result"
    }
   ],
   "source": [
    "class_obj1.obtain_marks1()"
   ]
  },
  {
   "cell_type": "code",
   "execution_count": 92,
   "id": "74003461-778c-4f9c-9332-5dfd843a183f",
   "metadata": {},
   "outputs": [
    {
     "data": {
      "text/plain": [
       "'in mathematica I got 80 in phase 2'"
      ]
     },
     "execution_count": 92,
     "metadata": {},
     "output_type": "execute_result"
    }
   ],
   "source": [
    "class_obj1.obtain_marks2()"
   ]
  },
  {
   "cell_type": "code",
   "execution_count": 93,
   "id": "26205082-21e8-4751-848d-07dcd3ac81e3",
   "metadata": {},
   "outputs": [],
   "source": [
    "#multiple inheritance\n",
    "\n",
    "class score1:\n",
    "    def score1(self):\n",
    "        return \"score1 is depend on your computer based skills\""
   ]
  },
  {
   "cell_type": "code",
   "execution_count": 94,
   "id": "9b9cf8e3-8ae0-403f-aa7e-6d1840ecf80e",
   "metadata": {},
   "outputs": [],
   "source": [
    "class score2:\n",
    "    def score2(self):\n",
    "        return \"score2 is depend on your writting ability\""
   ]
  },
  {
   "cell_type": "code",
   "execution_count": 95,
   "id": "1bc0bea0-5e15-460c-b73a-626190a87bd3",
   "metadata": {},
   "outputs": [],
   "source": [
    "class score3(score1,score2):\n",
    "    pass"
   ]
  },
  {
   "cell_type": "code",
   "execution_count": 96,
   "id": "f9906274-0208-439a-a24f-57a22b4331ea",
   "metadata": {},
   "outputs": [],
   "source": [
    "class_obj2 = score3()"
   ]
  },
  {
   "cell_type": "code",
   "execution_count": 98,
   "id": "f1593892-dc18-461b-a893-c1bf3c85f8e4",
   "metadata": {},
   "outputs": [
    {
     "data": {
      "text/plain": [
       "'score1 is depend on your computer based skills'"
      ]
     },
     "execution_count": 98,
     "metadata": {},
     "output_type": "execute_result"
    }
   ],
   "source": [
    "class_obj2.score1()"
   ]
  },
  {
   "cell_type": "code",
   "execution_count": 100,
   "id": "b826f437-71e4-4c72-892d-126d287f09a4",
   "metadata": {},
   "outputs": [
    {
     "data": {
      "text/plain": [
       "'score2 is depend on your writting ability'"
      ]
     },
     "execution_count": 100,
     "metadata": {},
     "output_type": "execute_result"
    }
   ],
   "source": [
    "class_obj2.score2()"
   ]
  },
  {
   "cell_type": "code",
   "execution_count": null,
   "id": "4a575ce1-2d67-4113-89e2-ecd44a3033bb",
   "metadata": {},
   "outputs": [],
   "source": []
  }
 ],
 "metadata": {
  "kernelspec": {
   "display_name": "Python 3 (ipykernel)",
   "language": "python",
   "name": "python3"
  },
  "language_info": {
   "codemirror_mode": {
    "name": "ipython",
    "version": 3
   },
   "file_extension": ".py",
   "mimetype": "text/x-python",
   "name": "python",
   "nbconvert_exporter": "python",
   "pygments_lexer": "ipython3",
   "version": "3.10.8"
  }
 },
 "nbformat": 4,
 "nbformat_minor": 5
}
